{
 "cells": [
  {
   "cell_type": "markdown",
   "metadata": {},
   "source": [
    "## Using Python to read data files and explore their contents\n",
    "\n",
    "This notebook demonstrates using the [Pandas](http://pandas.pydata.org) data processing library to read a dataset into Python, and to obtain a basic understanding of its contents.\n",
    "\n",
    "Note that Python by itself is a general-purpose programming language and does not provide powerful data processing capabilities.  The Pandas library was developed to meet this need.  Pandas is the most popular Python library for data manipulation, and we will use it extensively in this course.\n",
    "\n",
    "In addition to Pandas, we will also make use of the following Python libraries\n",
    "\n",
    "* [Numpy](http://www.numpy.org) is a library for working with arrays of data\n",
    "\n",
    "* [Matplotlib](https://matplotlib.org) is a library for making graphs\n",
    "\n",
    "* [Seaborn](https://seaborn.pydata.org) is a higher-level interface to Matplotlib that can be used to simplify many graphing tasks\n",
    "\n",
    "* [Statsmodels](https://www.statsmodels.org/stable/index.html) is a library that implements many statistical techniques\n",
    "\n",
    "* [Scipy](https://www.scipy.org) is a library of techniques for numerical and scientific computing\n"
   ]
  },
  {
   "cell_type": "code",
   "execution_count": null,
   "metadata": {},
   "outputs": [],
   "source": []
  }
 ],
 "metadata": {
  "kernelspec": {
   "display_name": ".venv",
   "language": "python",
   "name": "python3"
  },
  "language_info": {
   "codemirror_mode": {
    "name": "ipython",
    "version": 3
   },
   "file_extension": ".py",
   "mimetype": "text/x-python",
   "name": "python",
   "nbconvert_exporter": "python",
   "pygments_lexer": "ipython3",
   "version": "3.12.6"
  }
 },
 "nbformat": 4,
 "nbformat_minor": 2
}
